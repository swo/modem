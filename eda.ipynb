{
 "cells": [
  {
   "cell_type": "code",
   "execution_count": 1,
   "metadata": {},
   "outputs": [],
   "source": [
    "import numpy as np\n",
    "import sounddevice as sd"
   ]
  },
  {
   "cell_type": "code",
   "execution_count": 96,
   "metadata": {},
   "outputs": [
    {
     "data": {
      "text/plain": [
       "[[0.125, 1],\n",
       " [0.125, 0.25, 2, 8],\n",
       " [0.125, 0.25, 1, 2],\n",
       " [0.125, 0.25, 1, 2],\n",
       " [0.125, 0.25, 1, 2, 4, 8],\n",
       " [0.25],\n",
       " [0.125, 0.25, 0.5, 2, 4, 8],\n",
       " [0.125, 0.25, 1, 2, 4, 8],\n",
       " [0.125, 0.25, 0.5, 4],\n",
       " [0.125, 0.25, 1, 2],\n",
       " [0.125, 0.25, 2],\n",
       " [0.25, 8]]"
      ]
     },
     "execution_count": 96,
     "metadata": {},
     "output_type": "execute_result"
    }
   ],
   "source": [
    "def binarize_letter(x):\n",
    "    i = ord(x)\n",
    "    assert 0 < i < 128\n",
    "    return list(\"{:07b}\".format(i))\n",
    "\n",
    "def frequentize_letter(x, n=7, mid=3, base=1):\n",
    "    bits = binarize_letter(x)\n",
    "    assert len(bits) == n\n",
    "    return [base * (2 ** (i - mid)) for i, bit in enumerate(bits) if bit == \"1\"]\n",
    "\n",
    "def frequentize(s):\n",
    "    return [frequentize_letter(x) for x in list(s)]\n",
    "\n",
    "frequentize(\"Hello world!\")"
   ]
  },
  {
   "cell_type": "code",
   "execution_count": 98,
   "metadata": {},
   "outputs": [],
   "source": [
    "def play_tone(freqs_sets, duration, base_freq=440, sample_rate=44100, amplitude=0.5):\n",
    "    # Generate time axis\n",
    "    t = np.linspace(0, duration, int(sample_rate * duration), endpoint=False)\n",
    "    \n",
    "    # Generate waveform\n",
    "    waveform = amplitude * np.concatenate([\n",
    "        np.sum(\n",
    "            [np.sin(2 * np.pi * freq * base_freq * t) for freq in freqs],\n",
    "            axis=0\n",
    "        )\n",
    "        for freqs in freqs_sets\n",
    "    ])\n",
    "    \n",
    "    # Play sound\n",
    "    sd.play(waveform, sample_rate)\n",
    "    \n",
    "    # Wait for the sound to finish playing\n",
    "    sd.wait()\n",
    "\n",
    "# Example usage: Play a 440 Hz tone for 2 seconds\n",
    "play_tone(\n",
    "    frequentize('Hello world! This is a message from the deep'),\n",
    "    0.1\n",
    ")"
   ]
  }
 ],
 "metadata": {
  "kernelspec": {
   "display_name": ".venv",
   "language": "python",
   "name": "python3"
  },
  "language_info": {
   "codemirror_mode": {
    "name": "ipython",
    "version": 3
   },
   "file_extension": ".py",
   "mimetype": "text/x-python",
   "name": "python",
   "nbconvert_exporter": "python",
   "pygments_lexer": "ipython3",
   "version": "3.12.1"
  }
 },
 "nbformat": 4,
 "nbformat_minor": 2
}
